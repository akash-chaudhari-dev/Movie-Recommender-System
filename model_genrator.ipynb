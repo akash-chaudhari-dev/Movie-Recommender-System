{
 "cells": [
  {
   "cell_type": "code",
   "execution_count": null,
   "id": "83718245-68ab-437b-9fd6-ea603d77f57c",
   "metadata": {},
   "outputs": [],
   "source": [
    "import pandas as pd\n",
    "import ast\n",
    "from nltk.stem.porter import PorterStemmer\n",
    "from sklearn.feature_extraction.text import CountVectorizer\n",
    "from sklearn.metrics.pairwise import cosine_similarity\n",
    "import pickle\n",
    "import os"
   ]
  },
  {
   "cell_type": "code",
   "execution_count": 2,
   "id": "b80f57ec-efb1-4a5e-8fcf-d02b37249d41",
   "metadata": {},
   "outputs": [],
   "source": [
    "# Importing Data\n",
    "movies = pd.read_csv('./data/tmdb_5000_movies.csv')\n",
    "credits = pd.read_csv('./data/tmdb_5000_credits.csv')"
   ]
  },
  {
   "cell_type": "code",
   "execution_count": 81,
   "id": "6bc6cb02-94cd-47f6-a6e5-e9ab70c62a4c",
   "metadata": {},
   "outputs": [],
   "source": [
    "# We have too much data with same type so we Merge(combine together) the data which is Movies & Credits into one data in movies.\n",
    "movies = movies.merge(credits, on='title')\n",
    "# movies.head(0) # To View 1 st Entry"
   ]
  },
  {
   "cell_type": "code",
   "execution_count": 82,
   "id": "60591060-d7cb-4cc6-b0dd-01f73b5b2124",
   "metadata": {},
   "outputs": [],
   "source": [
    "# Deleted the Attritubes which is not Used\n",
    "# genres id keywords title Overview cast crew\n",
    "\n",
    "movies = movies[['movie_id','title','overview','genres','keywords','cast','crew']]\n",
    "# movies.info() # information about new movie frame \n",
    "# movies.head() # return 1 st 5 entryies"
   ]
  },
  {
   "cell_type": "code",
   "execution_count": 83,
   "id": "87448516-7b50-485f-a3d2-1bf9b99c1b9f",
   "metadata": {},
   "outputs": [
    {
     "data": {
      "text/plain": [
       "movie_id    0\n",
       "title       0\n",
       "overview    3\n",
       "genres      0\n",
       "keywords    0\n",
       "cast        0\n",
       "crew        0\n",
       "dtype: int64"
      ]
     },
     "execution_count": 83,
     "metadata": {},
     "output_type": "execute_result"
    }
   ],
   "source": [
    "# Returns if any attribute have any NULL value\n",
    "movies.isnull().sum()"
   ]
  },
  {
   "cell_type": "code",
   "execution_count": 84,
   "id": "140be742-4c43-457d-96ad-a992cf9d9087",
   "metadata": {},
   "outputs": [],
   "source": [
    "# It drops all rows from the movies DataFrame that contain any missing (NaN) values, in-place\n",
    "movies.dropna(inplace=True)"
   ]
  },
  {
   "cell_type": "code",
   "execution_count": null,
   "id": "a9a1bbf1-24e9-4f0c-8c5c-012a1eb214bc",
   "metadata": {},
   "outputs": [
    {
     "data": {
      "text/plain": [
       "np.int64(0)"
      ]
     },
     "execution_count": 85,
     "metadata": {},
     "output_type": "execute_result"
    }
   ],
   "source": [
    "# Now checking duplicates in data or duplicate data\n",
    "movies.duplicated().sum()"
   ]
  },
  {
   "cell_type": "code",
   "execution_count": 87,
   "id": "5a54770d-538c-4414-89d7-d40c3e6a375b",
   "metadata": {},
   "outputs": [],
   "source": [
    "#[{\"id\": 28, \"name\": \"Action\"}, {\"id\": 12, \"name\": \"Adventure\"}, {\"id\": 14, \"name\": \"Fantasy\"}, {\"id\": 878, \"name\": \"Science Fiction\"}]'\n",
    "#['Action','Adventure','FFantasy','SciFi']\n",
    "\n",
    "def convert(obj):\n",
    "    '''takes a stringified list of dictionaries (common in JSON-like columns in .csv files), \n",
    "    and extracts only the name field from each dictionary.'''\n",
    "    L=[]\n",
    "    for i in ast.literal_eval(obj):\n",
    "        L.append(i['name'])\n",
    "    return L\n",
    "\n",
    "# Run this to see how it will look in string format\n",
    "# ast.literal_eval('[{\"id\": 28, \"name\": \"Action\"}, {\"id\": 12, \"name\": \"Adventure\"}, {\"id\": 14, \"name\": \"Fantasy\"}, {\"id\": 878, \"name\": \"Science Fiction\"}]')"
   ]
  },
  {
   "cell_type": "code",
   "execution_count": 88,
   "id": "467ca375-94ba-4a06-b3e7-227d5df77bf5",
   "metadata": {},
   "outputs": [],
   "source": [
    "# Cast column :-\n",
    "def convert3(obj):\n",
    "    \"\"\"In cast there is huge names (data) so we just consider first \n",
    "    3 actor names which is main actors to recommend movies by actors name\"\"\"\n",
    "    L=[]\n",
    "    counter = 0\n",
    "    for i in ast.literal_eval(obj):\n",
    "        if counter != 3:\n",
    "           L.append(i['name'])\n",
    "           counter+=1\n",
    "        else:\n",
    "             break\n",
    "    return L"
   ]
  },
  {
   "cell_type": "code",
   "execution_count": 89,
   "id": "ed47ff0a",
   "metadata": {},
   "outputs": [],
   "source": [
    "def fetch_director(obj):\n",
    "    L=[]\n",
    "    for i in ast.literal_eval(obj):\n",
    "        if i['job'] == 'Director':\n",
    "           L.append(i['name'])\n",
    "           break\n",
    "    return L"
   ]
  },
  {
   "cell_type": "code",
   "execution_count": 90,
   "id": "a579cb8c-7b8a-484e-9ad2-d5736bcb67bb",
   "metadata": {},
   "outputs": [],
   "source": [
    "# kept only the name of the genres removed id\n",
    "movies['keywords'] = movies['keywords'].apply(convert)\n",
    "\n",
    "# kept only the name of the genres removed id\n",
    "movies['genres'] = movies['genres'].apply(convert)\n",
    "\n",
    "# Only Top 3 Cast kept\n",
    "movies['cast'] = movies['cast'].apply(convert3)\n",
    "\n",
    "# movies['crew'][0] # Crew has many Values we extact only Director\n",
    "movies['crew'] = movies['crew'].apply(fetch_director)\n",
    "\n",
    "# movies['overview'][0].split() # Splits A Long Review into Words\n",
    "movies['overview'] = movies['overview'].apply(lambda x:x.split())\n",
    "# movies.head()['overview'] # Result"
   ]
  },
  {
   "cell_type": "code",
   "execution_count": 91,
   "id": "f4d957db-de11-4383-b11f-6ba2b1295308",
   "metadata": {},
   "outputs": [],
   "source": [
    "# Removing Spaces \n",
    "movies['genres'] = movies['genres'].apply(lambda x:[i.replace(\" \",\"\")for i in x])\n",
    "movies['keywords'] = movies['keywords'].apply(lambda x:[i.replace(\" \",\"\")for i in x])\n",
    "movies['cast'] = movies['cast'].apply(lambda x:[i.replace(\" \",\"\")for i in x])\n",
    "movies['crew'] = movies['crew'].apply(lambda x:[i.replace(\" \",\"\")for i in x])"
   ]
  },
  {
   "cell_type": "code",
   "execution_count": 92,
   "id": "f05ea698-7e03-4ceb-87a6-746867e68275",
   "metadata": {},
   "outputs": [],
   "source": [
    "# Now creat another column which is Tag\n",
    "movies['tags'] = movies['overview']+ movies['genres']+ movies['keywords']+ movies['cast']+ movies['crew']\n",
    "# movies.head() # To View new added Attribute"
   ]
  },
  {
   "cell_type": "code",
   "execution_count": 93,
   "id": "5aa99f66-bc21-42ee-9a9e-e9a671038e06",
   "metadata": {},
   "outputs": [],
   "source": [
    "# now we don't need other columns so make new data frame\n",
    "# All Data from Older Attributes Transfred to tags\n",
    "filter_data = movies[['movie_id','title','tags']]"
   ]
  },
  {
   "cell_type": "code",
   "execution_count": 94,
   "id": "5130845c-8ec5-4494-9927-8cd108b84a2b",
   "metadata": {},
   "outputs": [
    {
     "name": "stderr",
     "output_type": "stream",
     "text": [
      "C:\\Users\\akash\\AppData\\Local\\Temp\\ipykernel_17208\\1901551370.py:2: SettingWithCopyWarning: \n",
      "A value is trying to be set on a copy of a slice from a DataFrame.\n",
      "Try using .loc[row_indexer,col_indexer] = value instead\n",
      "\n",
      "See the caveats in the documentation: https://pandas.pydata.org/pandas-docs/stable/user_guide/indexing.html#returning-a-view-versus-a-copy\n",
      "  filter_data['tags'] = filter_data['tags'].apply(lambda x:\" \".join(x))\n"
     ]
    }
   ],
   "source": [
    "# Convert the Tags to String Again\n",
    "filter_data['tags'] = filter_data['tags'].apply(lambda x:\" \".join(x))\n",
    "# filter_data.head() # View Output"
   ]
  },
  {
   "cell_type": "code",
   "execution_count": 95,
   "id": "3f9e3062-035e-47e6-80f5-fe22239a110b",
   "metadata": {},
   "outputs": [],
   "source": [
    "ps = PorterStemmer()"
   ]
  },
  {
   "cell_type": "code",
   "execution_count": 96,
   "id": "6ef4ba00-c0cf-4c0d-98eb-6c6ed48d38a0",
   "metadata": {},
   "outputs": [],
   "source": [
    "def stem(text):\n",
    "    \"\"\"['loved','loving','love'] it will give ['love','love','love']\"\"\"\n",
    "    y=[]\n",
    "    for i in text.split():\n",
    "        y.append(ps.stem(i))\n",
    "    return\" \".join(y)"
   ]
  },
  {
   "cell_type": "code",
   "execution_count": 97,
   "id": "858d13b0-35a8-42f3-b601-c49368a596d5",
   "metadata": {},
   "outputs": [
    {
     "name": "stderr",
     "output_type": "stream",
     "text": [
      "C:\\Users\\akash\\AppData\\Local\\Temp\\ipykernel_17208\\2669769354.py:1: SettingWithCopyWarning: \n",
      "A value is trying to be set on a copy of a slice from a DataFrame.\n",
      "Try using .loc[row_indexer,col_indexer] = value instead\n",
      "\n",
      "See the caveats in the documentation: https://pandas.pydata.org/pandas-docs/stable/user_guide/indexing.html#returning-a-view-versus-a-copy\n",
      "  filter_data['tags'] = filter_data['tags'].apply(stem)\n"
     ]
    }
   ],
   "source": [
    "filter_data['tags'] = filter_data['tags'].apply(stem)"
   ]
  },
  {
   "cell_type": "code",
   "execution_count": 98,
   "id": "351b166a-6943-4b51-9f8a-67f6af650a48",
   "metadata": {},
   "outputs": [
    {
     "data": {
      "text/plain": [
       "'in the 22nd century, a parapleg marin is dispatch to the moon pandora on a uniqu mission, but becom torn between follow order and protect an alien civilization. action adventur fantasi sciencefict cultureclash futur spacewar spacecoloni societi spacetravel futurist romanc space alien tribe alienplanet cgi marin soldier battl loveaffair antiwar powerrel mindandsoul 3d samworthington zoesaldana sigourneyweav jamescameron'"
      ]
     },
     "execution_count": 98,
     "metadata": {},
     "output_type": "execute_result"
    }
   ],
   "source": [
    "filter_data['tags'][0]"
   ]
  },
  {
   "cell_type": "code",
   "execution_count": 99,
   "id": "98d3a781-5d97-4bb5-9145-837a5e68ca08",
   "metadata": {},
   "outputs": [
    {
     "name": "stderr",
     "output_type": "stream",
     "text": [
      "C:\\Users\\akash\\AppData\\Local\\Temp\\ipykernel_17208\\3928362996.py:2: SettingWithCopyWarning: \n",
      "A value is trying to be set on a copy of a slice from a DataFrame.\n",
      "Try using .loc[row_indexer,col_indexer] = value instead\n",
      "\n",
      "See the caveats in the documentation: https://pandas.pydata.org/pandas-docs/stable/user_guide/indexing.html#returning-a-view-versus-a-copy\n",
      "  filter_data['tags'] = filter_data['tags'].apply(lambda x:x.lower())\n"
     ]
    }
   ],
   "source": [
    "# convert this into lowercase\n",
    "filter_data['tags'] = filter_data['tags'].apply(lambda x:x.lower())\n",
    "# filter_data.head() # View Output"
   ]
  },
  {
   "cell_type": "code",
   "execution_count": 100,
   "id": "6dafc826-3e23-498d-bd64-ceccfdfc2e2e",
   "metadata": {},
   "outputs": [],
   "source": [
    "# Turning words/sentences into numbers — so that machine learning models can understand and process them.\n",
    "cv = CountVectorizer(max_features=5000,stop_words='english')"
   ]
  },
  {
   "cell_type": "code",
   "execution_count": 101,
   "id": "56847024-6dfa-45a7-b2f9-5b1f0dca92f5",
   "metadata": {},
   "outputs": [],
   "source": [
    "vectors = cv.fit_transform(filter_data['tags']).toarray()"
   ]
  },
  {
   "cell_type": "code",
   "execution_count": 104,
   "id": "b011c066-1f3f-4b1b-804c-52cf88f7ae9c",
   "metadata": {},
   "outputs": [],
   "source": [
    "# Calculating Similarity Vector using Cosine Simiarity techniqe\n",
    "similarity = cosine_similarity(vectors)"
   ]
  },
  {
   "cell_type": "code",
   "execution_count": 105,
   "id": "7c823e36-9585-49cc-ae95-2d6962915c9b",
   "metadata": {},
   "outputs": [
    {
     "data": {
      "text/plain": [
       "[(1214, np.float64(0.28676966733820225)),\n",
       " (2405, np.float64(0.26901379342448517)),\n",
       " (3728, np.float64(0.2605130246476754)),\n",
       " (507, np.float64(0.255608593705383)),\n",
       " (539, np.float64(0.25038669783359574))]"
      ]
     },
     "execution_count": 105,
     "metadata": {},
     "output_type": "execute_result"
    }
   ],
   "source": [
    "# this how we calculated each movie's distance with each other with index\n",
    "sorted(list(enumerate(similarity[0])),reverse=True,key=lambda x:x[1])[1:6]"
   ]
  },
  {
   "cell_type": "code",
   "execution_count": 106,
   "id": "934882f7-9017-4877-be07-6408ee319e0e",
   "metadata": {},
   "outputs": [],
   "source": [
    "# Movie Reccomender\n",
    "def recommend(movie):\n",
    "    movie_index = filter_data[filter_data['title'] == movie].index[0] \n",
    "    distances = similarity[movie_index]\n",
    "    movies_list = sorted(list(enumerate(distances)),reverse=True,key=lambda x:x[1])[1:6]\n",
    "    \n",
    "    for i in movies_list:\n",
    "       # print(i[0]) it shows only index numbers so we use another print()\n",
    "        print(filter_data.iloc[i[0]].title) # this is use for names\n",
    "        \n",
    "    return \n",
    "\n",
    "# Try Reccomding Movie\n",
    "# recommend('Avatar') # Uncomment this"
   ]
  },
  {
   "cell_type": "code",
   "execution_count": null,
   "id": "f0aaff7e-c035-4be5-bcde-bbd51be665b8",
   "metadata": {},
   "outputs": [],
   "source": [
    "os.makedirs(\"dumped_data\", exist_ok=True)\n",
    "\n",
    "# Dump Calulated Files\n",
    "pickle.dump(filter_data,open('./dumpted_data/movies.pkl','wb'))\n",
    "pickle.dump(similarity,open('./dumpted_data/similarity.pkl','wb'))\n",
    "pickle.dump(filter_data.to_dict(),open('./dumpted_data/movie_dict.pkl','wb'))"
   ]
  }
 ],
 "metadata": {
  "kernelspec": {
   "display_name": ".venv (3.13.5)",
   "language": "python",
   "name": "python3"
  },
  "language_info": {
   "codemirror_mode": {
    "name": "ipython",
    "version": 3
   },
   "file_extension": ".py",
   "mimetype": "text/x-python",
   "name": "python",
   "nbconvert_exporter": "python",
   "pygments_lexer": "ipython3",
   "version": "3.13.5"
  }
 },
 "nbformat": 4,
 "nbformat_minor": 5
}
